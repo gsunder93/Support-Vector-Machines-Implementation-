{
 "cells": [
  {
   "cell_type": "code",
   "execution_count": 1,
   "metadata": {
    "collapsed": true
   },
   "outputs": [],
   "source": [
    "import numpy as np\n",
    "import math as math\n",
    "import time as time\n",
    "import matplotlib.pyplot as plt\n",
    "% matplotlib inline"
   ]
  },
  {
   "cell_type": "code",
   "execution_count": 2,
   "metadata": {
    "collapsed": true
   },
   "outputs": [],
   "source": [
    "def calculate_Q(data):\n",
    "    Q=np.zeros((data.shape[0],data.shape[0]))\n",
    "    for i in range (0,data.shape[0]):\n",
    "        for j in range(0,data.shape[0]):\n",
    "            Q[i,j]=np.dot(data[i,1:],np.transpose(data[j,1:]))*data[i,0]*data[j,0]\n",
    "    return Q"
   ]
  },
  {
   "cell_type": "code",
   "execution_count": 3,
   "metadata": {
    "collapsed": false
   },
   "outputs": [],
   "source": [
    "def find_j(gradient,alpha,data,Ilow,i,Q):\n",
    "    temp=[]\n",
    "    min_value = 1e30\n",
    "    min_idx = 0\n",
    "    for z in Ilow:\n",
    "        if -data[z,0]*gradient[z]<-data[i,0]*gradient[i]:\n",
    "            b=-data[z,0]*gradient[z]+data[i,0]*gradient[i]\n",
    "            a= Q[i,i]+Q[z,z] - 2*Q[i,z]/(data[z,0]*data[i,0])\n",
    "            a = max(a, 1e-12)\n",
    "            val = -(b**2) / a\n",
    "            if val < min_value:\n",
    "                min_value = val\n",
    "                min_idx = z\n",
    "    return min_idx "
   ]
  },
  {
   "cell_type": "code",
   "execution_count": 4,
   "metadata": {
    "collapsed": false
   },
   "outputs": [],
   "source": [
    "def I(alpha,C):\n",
    "    Iup=[]\n",
    "    Ilow=[]\n",
    "    for i in range(0,alpha.shape[0]):\n",
    "        if ((alpha[i]<C) and (data[i,0]==1)) or ((alpha[i]>0) and (data[i,0]==-1)):\n",
    "            Iup.append(i)\n",
    "        elif((alpha[i]<C) and (data[i,0]==-1)) or ((alpha[i]>0) and (data[i,0]==1)):\n",
    "            Ilow.append(i)\n",
    "    return Iup,Ilow"
   ]
  },
  {
   "cell_type": "code",
   "execution_count": 5,
   "metadata": {
    "collapsed": true
   },
   "outputs": [],
   "source": [
    "def cost_function(Q,alpha,e):\n",
    "    cost=0.5*np.dot(np.transpose(alpha),np.dot(Q,alpha))-np.dot(np.transpose(e),alpha)\n",
    "    return cost"
   ]
  },
  {
   "cell_type": "code",
   "execution_count": 6,
   "metadata": {
    "collapsed": true
   },
   "outputs": [],
   "source": [
    "def WSS(alpha,Q,epsilon,C,e,data):\n",
    "        Iup,Ilow=I(alpha,C)\n",
    "        gradient=np.dot(Q,alpha)-e\n",
    "        i=Iup[np.argmax(-gradient[Iup,0]*data[Iup,0])]\n",
    "        j=find_j(gradient,alpha,data,Ilow,i,Q)\n",
    "        return i,j,gradient"
   ]
  },
  {
   "cell_type": "code",
   "execution_count": 7,
   "metadata": {
    "collapsed": false
   },
   "outputs": [],
   "source": [
    "def alpha_update(data,i,j,C,alpha,gradient):\n",
    "    diff=alpha[i]-alpha[j]\n",
    "    alpha_sum=alpha[i]+alpha[j]\n",
    "    a= Q[i,i]+Q[j,j] - 2*Q[i,j]/(data[j,0]*data[i,0])\n",
    "    a = max(a, 1e-12)\n",
    "    if data[i,0]!=data[j,0]:\n",
    "        alpha[i]=alpha[i]+(-gradient[i]-gradient[j])/a\n",
    "        alpha[j]=alpha[j]+(-gradient[i]-gradient[j])/a\n",
    "    elif data[i,0]==data[j,0]:\n",
    "        alpha[i]=alpha[i]+(-gradient[i]+gradient[j])/a\n",
    "        alpha[j]=alpha[j]+(gradient[i]-gradient[j])/a\n",
    "\n",
    "    if data[i,0]!=data[j,0]:\n",
    "        if diff>0: \n",
    "            if alpha[i] > C:\n",
    "                alpha[i]=C\n",
    "                alpha[j]=C-diff\n",
    "        else:\n",
    "            if(alpha[j] > C):\n",
    "                alpha[j]=C\n",
    "                alpha[i]=C+diff\n",
    "        if diff>0:\n",
    "            if alpha[j] < 0:\n",
    "                alpha[j]=0\n",
    "                alpha[i]=diff\n",
    "        else:\n",
    "            if alpha[i]<0:\n",
    "                alpha[i]=0\n",
    "                alpha[j]=-diff\n",
    "    \n",
    "    if data[i,0]==data[j,0]:\n",
    "            if alpha_sum >C: \n",
    "                if (alpha[i] > C):\n",
    "                    alpha[i]=C\n",
    "                    alpha[j]=alpha_sum-C\n",
    "            else:\n",
    "                if(alpha[j] > C):\n",
    "                    alpha[j]=C\n",
    "                    alpha[i]=alpha_sum-C\n",
    "            if alpha_sum<C:\n",
    "                if alpha[j] < 0:\n",
    "                    alpha[j]=0\n",
    "                    alpha[i]=alpha_sum\n",
    "            else:\n",
    "                if alpha[i]<0:\n",
    "                    alpha[i]=0\n",
    "                    alpha[j]=alpha_sum\n",
    "    return alpha"
   ]
  },
  {
   "cell_type": "code",
   "execution_count": 8,
   "metadata": {
    "collapsed": true
   },
   "outputs": [],
   "source": [
    "def mySmoSVM(Q,data,alpha,e,epsilon,l,C):\n",
    "    cost_diff=1\n",
    "    cost=[]\n",
    "    ite=0\n",
    "    c=float(cost_function(Q,alpha,e))\n",
    "    cost.append(c)\n",
    "    while cost_diff>epsilon and ite<=1000:\n",
    "        i,j,gradient=WSS(alpha,Q,epsilon,C,e,data)\n",
    "        c_prev=c\n",
    "        alpha=alpha_update(data,i,j,C,alpha,gradient)\n",
    "        c=float(cost_function(Q,alpha,e))\n",
    "        cost.append(c)\n",
    "        cost_diff=abs(c_prev-c)\n",
    "        ite=ite+1\n",
    "    return cost"
   ]
  },
  {
   "cell_type": "code",
   "execution_count": 9,
   "metadata": {
    "collapsed": false
   },
   "outputs": [],
   "source": [
    "num=0\n",
    "t=[]\n",
    "cost=[]\n",
    "while num<5:\n",
    "    num=num+1\n",
    "    start_time = time.time()\n",
    "    data=np.loadtxt(\"MNIST-13.csv\",delimiter=\",\")\n",
    "    data[data[:,0]==1,0]=1\n",
    "    data[data[:,0]==3,0]=-1\n",
    "    norms=np.linalg.norm(data[:,1:],axis=1)\n",
    "    data[:,1:]=data[:,1:]/norms.reshape((norms.shape[0],1))\n",
    "    alpha=np.zeros((data.shape[0],1))\n",
    "    e=np.ones((data.shape[0],1))\n",
    "    Q=calculate_Q(data)\n",
    "    epsilon=0.0001\n",
    "    l=1\n",
    "    C=1\n",
    "    cost.append(mySmoSVM(Q,data,alpha,e,epsilon,l,C))\n",
    "    t.append(time.time() - start_time)"
   ]
  },
  {
   "cell_type": "code",
   "execution_count": 10,
   "metadata": {
    "collapsed": false
   },
   "outputs": [
    {
     "data": {
      "image/png": "[encoded data removed]",
      "text/plain": [
       "<matplotlib.figure.Figure at 0x8ad4a20>"
      ]
     },
     "metadata": {},
     "output_type": "display_data"
    }
   ],
   "source": [
    "plt.figure()\n",
    "plt.title(\"SMOSVM Cost function\")\n",
    "plt.xlabel(\"Iteration\")\n",
    "plt.ylabel(\"Cost Function\")\n",
    "plt.grid()\n",
    "plt.plot(range(len(cost[0])), cost[0], '.-', color=\"g\")\n",
    "plt.plot(range(len(cost[1])), cost[1], '.-', color=\"b\")\n",
    "plt.plot(range(len(cost[2])), cost[2], '.-', color=\"r\")\n",
    "plt.plot(range(len(cost[3])), cost[3], '.-', color=\"y\")\n",
    "plt.plot(range(len(cost[4])), cost[4], '.-', color=\"m\")\n",
    "plt.savefig('SMOSVM.png')\n",
    "plt.show()"
   ]
  },
  {
   "cell_type": "code",
   "execution_count": 11,
   "metadata": {
    "collapsed": false
   },
   "outputs": [
    {
     "name": "stdout",
     "output_type": "stream",
     "text": [
      "mean\n",
      "15.575\n",
      "------------------\n",
      "std deveation\n",
      "0.286965480757\n"
     ]
    }
   ],
   "source": [
    "print \"mean\" \n",
    "print np.mean(t)\n",
    "print \"------------------\"\n",
    "print \"std deveation\"\n",
    "print np.std(t)"
   ]
  },
  {
   "cell_type": "code",
   "execution_count": null,
   "metadata": {
    "collapsed": true
   },
   "outputs": [],
   "source": []
  }
 ],
 "metadata": {
  "kernelspec": {
   "display_name": "Python 2",
   "language": "python",
   "name": "python2"
  },
  "language_info": {
   "codemirror_mode": {
    "name": "ipython",
    "version": 2
   },
   "file_extension": ".py",
   "mimetype": "text/x-python",
   "name": "python",
   "nbconvert_exporter": "python",
   "pygments_lexer": "ipython2",
   "version": "2.7.9"
  }
 },
 "nbformat": 4,
 "nbformat_minor": 0
}
