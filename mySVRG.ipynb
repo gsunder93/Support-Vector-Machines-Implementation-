{
 "cells": [
  {
   "cell_type": "code",
   "execution_count": 1,
   "metadata": {
    "collapsed": true
   },
   "outputs": [],
   "source": [
    "import numpy as np\n",
    "import math as math\n",
    "import time as time\n",
    "import matplotlib.pyplot as plt\n",
    "% matplotlib inline "
   ]
  },
  {
   "cell_type": "code",
   "execution_count": 2,
   "metadata": {
    "collapsed": true
   },
   "outputs": [],
   "source": [
    "def subset(S):\n",
    "    rows=S.shape[0]\n",
    "    seed=np.random.random_integers(low=0,high=rows-1)\n",
    "    return seed"
   ]
  },
  {
   "cell_type": "code",
   "execution_count": 3,
   "metadata": {
    "collapsed": false
   },
   "outputs": [],
   "source": [
    "def my_gradient(A,w):\n",
    "    return -1.0 * A[0] * A[1:] if (A[0] * np.dot(A[1:],w)) < 1.0 else 0"
   ]
  },
  {
   "cell_type": "code",
   "execution_count": 4,
   "metadata": {
    "collapsed": true
   },
   "outputs": [],
   "source": [
    "def my_gradient_full(data, w):\n",
    "    rows, features = data.shape\n",
    "    gradient = np.zeros(features-1)\n",
    "    for i, entry in enumerate(data):\n",
    "        gradient = gradient + my_gradient(entry, w)\n",
    "    return gradient"
   ]
  },
  {
   "cell_type": "code",
   "execution_count": 5,
   "metadata": {
    "collapsed": false
   },
   "outputs": [],
   "source": [
    "def cost_function(w,A,l):\n",
    "    yfx= 1.0 - A[:,0] * np.dot(A[:,1:],w)\n",
    "    max_value= map(lambda x: max(x,0),yfx)\n",
    "    cost=  np.sum(max_value) / 2000.0\n",
    "    return cost"
   ]
  },
  {
   "cell_type": "code",
   "execution_count": 6,
   "metadata": {
    "collapsed": false
   },
   "outputs": [],
   "source": [
    "def mySVRG(data,learning_rate,k):\n",
    "    rows, features = data.shape\n",
    "    k=k*rows\n",
    "    w_tilda = np.zeros(features-1)\n",
    "    ktot=0\n",
    "    cost=[]\n",
    "    k_tot=[]\n",
    "    while (ktot<=100*data.shape[0]):\n",
    "        ktot=ktot+data.shape[0]+2*k\n",
    "        mean= my_gradient_full(data,w_tilda) / float(data.shape[0])\n",
    "        w_inner = w_tilda\n",
    "        for i in range(0,int(k)):\n",
    "            seed=subset(data)\n",
    "            g1 = my_gradient(data[seed,:],w_inner)\n",
    "            g2 = my_gradient(data[seed,:],w_tilda)\n",
    "            w_inner=w_inner-learning_rate*(g1 - g2 +mean)\n",
    "        w_tilda = w_inner\n",
    "        cost.append(cost_function(w_tilda,data,1))\n",
    "        k_tot.append(ktot)\n",
    "    return cost,k_tot"
   ]
  },
  {
   "cell_type": "code",
   "execution_count": null,
   "metadata": {
    "collapsed": true
   },
   "outputs": [],
   "source": [
    "#k=1"
   ]
  },
  {
   "cell_type": "code",
   "execution_count": 7,
   "metadata": {
    "collapsed": false
   },
   "outputs": [],
   "source": [
    "t=[]\n",
    "ite=0\n",
    "cost=[]\n",
    "k_tot=[]\n",
    "while ite <5:\n",
    "    ite=ite+1\n",
    "    start_time = time.time()\n",
    "    data=np.loadtxt(\"MNIST-13.csv\",delimiter=\",\")\n",
    "    np.random.seed(ite)\n",
    "    data[data[:,0]==1,0]=1\n",
    "    data[data[:,0]==3,0]=-1\n",
    "    c,k=mySVRG(data,1e-6,1.0/2000.0)\n",
    "    cost.append(c)\n",
    "    k_tot.append(k)\n",
    "    t.append(time.time() - start_time)"
   ]
  },
  {
   "cell_type": "code",
   "execution_count": 8,
   "metadata": {
    "collapsed": false
   },
   "outputs": [
    {
     "data": {
      "image/png": "[encoded data removed]",
      "text/plain": [
       "<matplotlib.figure.Figure at 0x86fdb38>"
      ]
     },
     "metadata": {},
     "output_type": "display_data"
    }
   ],
   "source": [
    "plt.figure()\n",
    "plt.title(\"SVRG Cost function for k=1\")\n",
    "plt.xlabel(\"Iteration\")\n",
    "plt.ylabel(\"Gradient Computations\")\n",
    "plt.grid()\n",
    "plt.plot(k_tot[0], cost[0], '.-', color=\"g\")\n",
    "plt.plot(k_tot[1], cost[1], '.-', color=\"b\")\n",
    "plt.plot(k_tot[2], cost[2], '.-', color=\"r\")\n",
    "plt.plot(k_tot[3], cost[3], '.-', color=\"y\")\n",
    "plt.plot(k_tot[4], cost[4], '.-', color=\"m\")\n",
    "plt.savefig('SVRG,k=1.png')\n",
    "plt.show()"
   ]
  },
  {
   "cell_type": "code",
   "execution_count": 9,
   "metadata": {
    "collapsed": false
   },
   "outputs": [
    {
     "name": "stdout",
     "output_type": "stream",
     "text": [
      "mean k=1\n",
      "3.21059999466\n",
      "------------------\n",
      "std deveation k=1\n",
      "0.045244138148\n"
     ]
    }
   ],
   "source": [
    "print \"mean k=1\" \n",
    "print np.mean(t)\n",
    "print \"------------------\"\n",
    "print \"std deveation k=1\"\n",
    "print np.std(t)"
   ]
  },
  {
   "cell_type": "code",
   "execution_count": null,
   "metadata": {
    "collapsed": true
   },
   "outputs": [],
   "source": [
    "#k=20"
   ]
  },
  {
   "cell_type": "code",
   "execution_count": 10,
   "metadata": {
    "collapsed": true
   },
   "outputs": [],
   "source": [
    "t=[]\n",
    "ite=0\n",
    "cost=[]\n",
    "k_tot=[]\n",
    "while ite <5:\n",
    "    ite=ite+1\n",
    "    start_time = time.time()\n",
    "    data=np.loadtxt(\"MNIST-13.csv\",delimiter=\",\")\n",
    "    np.random.seed(ite)\n",
    "    data[data[:,0]==1,0]=1\n",
    "    data[data[:,0]==3,0]=-1\n",
    "    c,k=mySVRG(data,1e-8,0.01)\n",
    "    cost.append(c)\n",
    "    k_tot.append(k)\n",
    "    t.append(time.time() - start_time)"
   ]
  },
  {
   "cell_type": "code",
   "execution_count": 11,
   "metadata": {
    "collapsed": false
   },
   "outputs": [
    {
     "data": {
      "image/png": "[encoded data removed]",
      "text/plain": [
       "<matplotlib.figure.Figure at 0x8dddc88>"
      ]
     },
     "metadata": {},
     "output_type": "display_data"
    }
   ],
   "source": [
    "plt.figure()\n",
    "plt.title(\"SVRG Cost function for k=20\")\n",
    "plt.xlabel(\"Iteration\")\n",
    "plt.ylabel(\"Cost Function\")\n",
    "plt.grid()\n",
    "plt.plot(k_tot[0], cost[0], '.-', color=\"g\")\n",
    "plt.plot(k_tot[1], cost[1], '.-', color=\"b\")\n",
    "plt.plot(k_tot[2], cost[2], '.-', color=\"r\")\n",
    "plt.plot(k_tot[3], cost[3], '.-', color=\"y\")\n",
    "plt.plot(k_tot[4], cost[4], '.-', color=\"m\")\n",
    "plt.savefig('SVRG,k=20.png')\n",
    "plt.show()"
   ]
  },
  {
   "cell_type": "code",
   "execution_count": 12,
   "metadata": {
    "collapsed": false
   },
   "outputs": [
    {
     "name": "stdout",
     "output_type": "stream",
     "text": [
      "mean k=20\n",
      "3.19340000153\n",
      "------------------\n",
      "std deveation k=20\n",
      "0.0507172306208\n"
     ]
    }
   ],
   "source": [
    "print \"mean k=20\" \n",
    "print np.mean(t)\n",
    "print \"------------------\"\n",
    "print \"std deveation k=20\"\n",
    "print np.std(t)"
   ]
  },
  {
   "cell_type": "code",
   "execution_count": null,
   "metadata": {
    "collapsed": true
   },
   "outputs": [],
   "source": [
    "#k=200"
   ]
  },
  {
   "cell_type": "code",
   "execution_count": 13,
   "metadata": {
    "collapsed": true
   },
   "outputs": [],
   "source": [
    "t=[]\n",
    "ite=0\n",
    "cost=[]\n",
    "k_tot=[]\n",
    "while ite <5:\n",
    "    ite=ite+1\n",
    "    start_time = time.time()\n",
    "    data=np.loadtxt(\"MNIST-13.csv\",delimiter=\",\")\n",
    "    np.random.seed(ite)\n",
    "    data[data[:,0]==1,0]=1\n",
    "    data[data[:,0]==3,0]=-1\n",
    "    c,k=mySVRG(data,1e-8,0.1)\n",
    "    cost.append(c)\n",
    "    k_tot.append(k)\n",
    "    t.append(time.time() - start_time)"
   ]
  },
  {
   "cell_type": "code",
   "execution_count": 14,
   "metadata": {
    "collapsed": false
   },
   "outputs": [
    {
     "data": {
      "image/png": "[encoded data removed]",
      "text/plain": [
       "<matplotlib.figure.Figure at 0x90edef0>"
      ]
     },
     "metadata": {},
     "output_type": "display_data"
    }
   ],
   "source": [
    "plt.figure()\n",
    "plt.title(\"SVRG Cost function for k=200\")\n",
    "plt.xlabel(\"Iteration\")\n",
    "plt.ylabel(\"Cost Function\")\n",
    "plt.grid()\n",
    "plt.plot(k_tot[0], cost[0], '.-', color=\"g\")\n",
    "plt.plot(k_tot[1], cost[1], '.-', color=\"b\")\n",
    "plt.plot(k_tot[2], cost[2], '.-', color=\"r\")\n",
    "plt.plot(k_tot[3], cost[3], '.-', color=\"y\")\n",
    "plt.plot(k_tot[4], cost[4], '.-', color=\"m\")\n",
    "plt.savefig('SVRG,k=200.png')\n",
    "plt.show()"
   ]
  },
  {
   "cell_type": "code",
   "execution_count": 15,
   "metadata": {
    "collapsed": false
   },
   "outputs": [
    {
     "name": "stdout",
     "output_type": "stream",
     "text": [
      "mean k=200\n",
      "3.20419998169\n",
      "------------------\n",
      "std deveation k=200\n",
      "0.144198977568\n"
     ]
    }
   ],
   "source": [
    "print \"mean k=200\" \n",
    "print np.mean(t)\n",
    "print \"------------------\"\n",
    "print \"std deveation k=200\"\n",
    "print np.std(t)"
   ]
  },
  {
   "cell_type": "code",
   "execution_count": null,
   "metadata": {
    "collapsed": true
   },
   "outputs": [],
   "source": [
    "#k=1000"
   ]
  },
  {
   "cell_type": "code",
   "execution_count": 16,
   "metadata": {
    "collapsed": true
   },
   "outputs": [],
   "source": [
    "t=[]\n",
    "ite=0\n",
    "cost=[]\n",
    "k_tot=[]\n",
    "while ite <5:\n",
    "    ite=ite+1\n",
    "    start_time = time.time()\n",
    "    data=np.loadtxt(\"MNIST-13.csv\",delimiter=\",\")\n",
    "    np.random.seed(ite)\n",
    "    data[data[:,0]==1,0]=1\n",
    "    data[data[:,0]==3,0]=-1\n",
    "    c,k=mySVRG(data,1e-8,0.5)\n",
    "    cost.append(c)\n",
    "    k_tot.append(k)\n",
    "    t.append(time.time() - start_time)"
   ]
  },
  {
   "cell_type": "code",
   "execution_count": 17,
   "metadata": {
    "collapsed": false
   },
   "outputs": [
    {
     "data": {
      "image/png": "[encoded data removed]",
      "text/plain": [
       "<matplotlib.figure.Figure at 0x8701908>"
      ]
     },
     "metadata": {},
     "output_type": "display_data"
    }
   ],
   "source": [
    "plt.figure()\n",
    "plt.title(\"SVRG Cost function for k=1000\")\n",
    "plt.xlabel(\"Iteration\")\n",
    "plt.ylabel(\"Cost Function\")\n",
    "plt.grid()\n",
    "plt.plot(k_tot[0], cost[0], '.-', color=\"g\")\n",
    "plt.plot(k_tot[1], cost[1], '.-', color=\"b\")\n",
    "plt.plot(k_tot[2], cost[2], '.-', color=\"r\")\n",
    "plt.plot(k_tot[3], cost[3], '.-', color=\"y\")\n",
    "plt.plot(k_tot[4], cost[4], '.-', color=\"m\")\n",
    "plt.savefig('SVRG,k=1000.png')\n",
    "plt.show()"
   ]
  },
  {
   "cell_type": "code",
   "execution_count": 18,
   "metadata": {
    "collapsed": false
   },
   "outputs": [
    {
     "name": "stdout",
     "output_type": "stream",
     "text": [
      "mean k=1000\n",
      "2.80819997787\n",
      "------------------\n",
      "std deveation k=1000\n",
      "0.0787182211649\n"
     ]
    }
   ],
   "source": [
    "print \"mean k=1000\" \n",
    "print np.mean(t)\n",
    "print \"------------------\"\n",
    "print \"std deveation k=1000\"\n",
    "print np.std(t)"
   ]
  },
  {
   "cell_type": "code",
   "execution_count": null,
   "metadata": {
    "collapsed": true
   },
   "outputs": [],
   "source": [
    "#k=2000"
   ]
  },
  {
   "cell_type": "code",
   "execution_count": 19,
   "metadata": {
    "collapsed": true
   },
   "outputs": [],
   "source": [
    "t=[]\n",
    "ite=0\n",
    "cost=[]\n",
    "k_tot=[]\n",
    "while ite <5:\n",
    "    ite=ite+1\n",
    "    start_time = time.time()\n",
    "    data=np.loadtxt(\"MNIST-13.csv\",delimiter=\",\")\n",
    "    np.random.seed(ite)\n",
    "    data[data[:,0]==1,0]=1\n",
    "    data[data[:,0]==3,0]=-1\n",
    "    c,k=mySVRG(data,1e-8,1)\n",
    "    cost.append(c)\n",
    "    k_tot.append(k)\n",
    "    t.append(time.time() - start_time)"
   ]
  },
  {
   "cell_type": "code",
   "execution_count": 20,
   "metadata": {
    "collapsed": false
   },
   "outputs": [
    {
     "data": {
      "image/png": "[encoded data removed]",
      "text/plain": [
       "<matplotlib.figure.Figure at 0x91f2390>"
      ]
     },
     "metadata": {},
     "output_type": "display_data"
    }
   ],
   "source": [
    "plt.figure()\n",
    "plt.title(\"SVRG Cost function for k=2000\")\n",
    "plt.xlabel(\"Iteration\")\n",
    "plt.ylabel(\"Cost Function\")\n",
    "plt.grid()\n",
    "plt.plot(k_tot[0], cost[0], '.-', color=\"g\")\n",
    "plt.plot(k_tot[1], cost[1], '.-', color=\"b\")\n",
    "plt.plot(k_tot[2], cost[2], '.-', color=\"r\")\n",
    "plt.plot(k_tot[3], cost[3], '.-', color=\"y\")\n",
    "plt.plot(k_tot[4], cost[4], '.-', color=\"m\")\n",
    "plt.savefig('SVRG,k=2000.png')\n",
    "plt.show()"
   ]
  },
  {
   "cell_type": "code",
   "execution_count": 21,
   "metadata": {
    "collapsed": false
   },
   "outputs": [
    {
     "name": "stdout",
     "output_type": "stream",
     "text": [
      "mean k=2000\n",
      "2.73619999886\n",
      "------------------\n",
      "std deveation k=2000\n",
      "0.0243425504503\n"
     ]
    }
   ],
   "source": [
    "print \"mean k=2000\" \n",
    "print np.mean(t)\n",
    "print \"------------------\"\n",
    "print \"std deveation k=2000\"\n",
    "print np.std(t)"
   ]
  },
  {
   "cell_type": "code",
   "execution_count": null,
   "metadata": {
    "collapsed": true
   },
   "outputs": [],
   "source": []
  }
 ],
 "metadata": {
  "kernelspec": {
   "display_name": "Python 2",
   "language": "python",
   "name": "python2"
  },
  "language_info": {
   "codemirror_mode": {
    "name": "ipython",
    "version": 2
   },
   "file_extension": ".py",
   "mimetype": "text/x-python",
   "name": "python",
   "nbconvert_exporter": "python",
   "pygments_lexer": "ipython2",
   "version": "2.7.9"
  }
 },
 "nbformat": 4,
 "nbformat_minor": 0
}
